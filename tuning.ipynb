{
  "nbformat": 4,
  "nbformat_minor": 0,
  "metadata": {
    "colab": {
      "provenance": []
    },
    "kernelspec": {
      "name": "python3",
      "display_name": "Python 3"
    },
    "language_info": {
      "name": "python"
    }
  },
  "cells": [
    {
      "cell_type": "markdown",
      "source": [
        "<a href=\"https://colab.research.google.com/github/MinaBeric/Stat_method_for_Machine_Learning/blob/main/tuning.ipynb\" target=\"_parent\"><img src=\"https://colab.research.google.com/assets/colab-badge.svg\" alt=\"Open In Colab\"/></a>"
      ],
      "metadata": {
        "id": "yFyJdFGrq7XL"
      }
    },
    {
      "cell_type": "code",
      "source": [
        "import numpy as np\n",
        "import pandas as pd\n",
        "import seaborn as sns\n",
        "import matplotlib.pyplot as plt\n",
        "from sklearn.model_selection import train_test_split\n",
        "from collections import Counter\n",
        "import graphviz\n",
        "from graphviz import Digraph"
      ],
      "metadata": {
        "id": "5_LhtXVTupEm"
      },
      "execution_count": 1,
      "outputs": []
    },
    {
      "cell_type": "code",
      "source": [
        "from sklearn.model_selection import StratifiedKFold\n",
        "from sklearn.metrics import accuracy_score,precision_score, recall_score, f1_score"
      ],
      "metadata": {
        "id": "66j0YBcPEPn7"
      },
      "execution_count": 2,
      "outputs": []
    },
    {
      "cell_type": "code",
      "source": [
        "from joblib import Parallel, delayed\n",
        "from itertools import product"
      ],
      "metadata": {
        "id": "Zqc4LI_XYD0S"
      },
      "execution_count": 3,
      "outputs": []
    },
    {
      "cell_type": "code",
      "source": [
        "import random"
      ],
      "metadata": {
        "id": "qG-cpLixbvSJ"
      },
      "execution_count": 4,
      "outputs": []
    },
    {
      "cell_type": "code",
      "source": [
        "import pickle\n",
        "import multiprocessing"
      ],
      "metadata": {
        "id": "PfxQtFBrsJ8D"
      },
      "execution_count": 13,
      "outputs": []
    },
    {
      "cell_type": "code",
      "execution_count": 5,
      "metadata": {
        "colab": {
          "base_uri": "https://localhost:8080/"
        },
        "id": "dNjME4Ndt1qX",
        "outputId": "cc670ed9-d8bc-4f88-9d59-95615b0cbe76"
      },
      "outputs": [
        {
          "output_type": "stream",
          "name": "stdout",
          "text": [
            "Mounted at /content/drive\n"
          ]
        }
      ],
      "source": [
        "from google.colab import drive\n",
        "drive.mount('/content/drive')"
      ]
    },
    {
      "cell_type": "code",
      "source": [
        "# Load pre-split data\n",
        "X_train = pd.read_pickle(\"/content/drive/MyDrive/machinelearning/X_train.pkl\")\n",
        "X_test = pd.read_pickle(\"/content/drive/MyDrive/machinelearning/X_test.pkl\")\n",
        "y_train = pd.read_pickle(\"/content/drive/MyDrive/machinelearning/y_train.pkl\")\n",
        "y_test = pd.read_pickle(\"/content/drive/MyDrive/machinelearning/y_test.pkl\")\n"
      ],
      "metadata": {
        "id": "TfnLn8HaaZvq"
      },
      "execution_count": 6,
      "outputs": []
    },
    {
      "cell_type": "code",
      "source": [
        "class Node():\n",
        "    def __init__(self,feature=None, threshold=None,left=None,right=None, value=None):\n",
        "        '''constructor'''\n",
        "\n",
        "        #for decision node\n",
        "        self.feature=feature\n",
        "        self.threshold=threshold\n",
        "        self.left=left\n",
        "        self.right=right\n",
        "        self.value=value\n",
        "\n",
        "    #for leaf node\n",
        "    def is_leaf(self):\n",
        "        return self.value is not None"
      ],
      "metadata": {
        "id": "nNbJMMMvvZ44"
      },
      "execution_count": 7,
      "outputs": []
    },
    {
      "cell_type": "code",
      "source": [
        "class Decision_Tree:\n",
        "    def __init__(self, min_samples_split=2, max_depth=20, n_features=None, criterion='entropy', min_impurity_decrease=0.001):\n",
        "        self.min_samples_split = min_samples_split\n",
        "        self.max_depth = max_depth\n",
        "        self.n_features = n_features\n",
        "        self.criterion = criterion\n",
        "        self.min_impurity_decrease=min_impurity_decrease\n",
        "        self.root = None\n",
        "        self.class_labels={0: 'e', 1: 'p'}\n",
        "        self.feature_names=None\n",
        "\n",
        "    def get_params(self,deep=True):\n",
        "        return {\n",
        "            'min_samples_split': self.min_samples_split,\n",
        "            'max_depth': self.max_depth,\n",
        "            'n_features': self.n_features,\n",
        "            'criterion': self.criterion,\n",
        "            'min_impurity_decrease':self.min_impurity_decrease\n",
        "        }\n",
        "\n",
        "    def set_params (self, **params):\n",
        "        for param,value in params.items():\n",
        "            if hasattr(self,param):\n",
        "                setattr(self,param,value)\n",
        "        return self\n",
        "\n",
        "    def fit(self, X, y,feature_names=None):\n",
        "        self.feature_names=feature_names\n",
        "        self.n_features = X.shape[1] if not self.n_features else min(X.shape[1], self.n_features)\n",
        "\n",
        "        self.root = self._grow_tree(X, y)\n",
        "\n",
        "    def _grow_tree(self, X, y, depth=0):\n",
        "        n_samples, n_feats = X.shape\n",
        "        n_labels = len(np.unique(y))\n",
        "\n",
        "\n",
        "        if self.criterion==\"entropy\":\n",
        "            parent_impurity=self._scaled_entropy(y)\n",
        "        elif self.criterion==\"gini\":\n",
        "            parent_impurity=self._gini(y)\n",
        "        elif self.criterion==\"squared_impurity\":\n",
        "            parent_impurity=self._squared_impurity(y)\n",
        "\n",
        "\n",
        "        if n_labels > 1:\n",
        "            gain = max(\n",
        "                self._information_gain(y, X[:, feat_idx], thr)\n",
        "                for feat_idx in range(n_feats)\n",
        "                for thr in np.unique(X[:, feat_idx])\n",
        "            )\n",
        "        else:\n",
        "            gain = 0\n",
        "\n",
        "\n",
        "        if (depth >= self.max_depth or n_labels == 1 or n_samples < self.min_samples_split or parent_impurity< self.min_impurity_decrease):\n",
        "            leaf_value = self._most_common_label(y)\n",
        "            return Node(value=leaf_value)\n",
        "\n",
        "\n",
        "        feat_idxs = np.random.choice(n_feats, self.n_features, replace=False)\n",
        "\n",
        "\n",
        "        best_feature, best_thresh = self._best_split(X, y, feat_idxs)\n",
        "\n",
        "\n",
        "        left_idxs, right_idxs = self._split(X[:, best_feature], best_thresh)\n",
        "\n",
        "\n",
        "        left = self._grow_tree(X[left_idxs, :], y[left_idxs], depth + 1)\n",
        "        right = self._grow_tree(X[right_idxs, :], y[right_idxs], depth + 1)\n",
        "        return Node(best_feature, best_thresh, left, right)\n",
        "\n",
        "    def _best_split(self, X, y, feat_idxs):\n",
        "        best_gain = -1\n",
        "        split_idx, split_threshold = None, None\n",
        "\n",
        "        for feat_idx in feat_idxs:\n",
        "            X_column = X[:, feat_idx]\n",
        "            thresholds = np.unique(X_column)\n",
        "\n",
        "            for thr in thresholds:\n",
        "                gain = self._information_gain(y, X_column, thr)\n",
        "\n",
        "                if gain > best_gain:\n",
        "                    best_gain = gain\n",
        "                    split_idx = feat_idx\n",
        "                    split_threshold = thr\n",
        "\n",
        "        return split_idx, split_threshold\n",
        "\n",
        "    def _information_gain(self, y, X_column, threshold):\n",
        "\n",
        "        if self.criterion=='entropy':\n",
        "            parent_impurity=self._scaled_entropy(y)\n",
        "        elif self.criterion == 'gini':\n",
        "            parent_impurity=self._gini(y)\n",
        "        elif self.criterion==\"squared_impurity\":\n",
        "            parent_impurity=self._squared_impurity(y)\n",
        "\n",
        "\n",
        "        left_idxs, right_idxs = self._split(X_column, threshold)\n",
        "\n",
        "        if len(left_idxs) == 0 or len(right_idxs) == 0:\n",
        "            return 0\n",
        "\n",
        "\n",
        "        n = len(y)\n",
        "        n_l, n_r = len(left_idxs), len(right_idxs)\n",
        "\n",
        "        e_l = self._scaled_entropy(y[left_idxs]) if self.criterion == 'entropy' else self._gini(y[left_idxs]) if self.criterion == 'gini' else self._squared_impurity(y[left_idxs])\n",
        "        e_r = self._scaled_entropy(y[right_idxs]) if self.criterion == 'entropy' else self._gini(y[right_idxs]) if self.criterion == 'gini' else self._squared_impurity(y[right_idxs])\n",
        "\n",
        "        child_impurity = (n_l / n) * e_l + (n_r / n) * e_r\n",
        "\n",
        "\n",
        "        information_gain = parent_impurity - child_impurity\n",
        "        return information_gain\n",
        "\n",
        "    def _split(self, X_column, split_thresh):\n",
        "        left_idxs = np.argwhere(X_column <= split_thresh).flatten()\n",
        "        right_idxs = np.argwhere(X_column > split_thresh).flatten()\n",
        "        return left_idxs, right_idxs\n",
        "\n",
        "    def _scaled_entropy(self, y):\n",
        "        p=np.sum(y)/len(y)\n",
        "        if p==0 or p==1:\n",
        "            return 0\n",
        "        return -2 * p * np.log2(p) - 2 * (1 - p) * np.log2(1 - p)\n",
        "\n",
        "    def _gini(self, y):\n",
        "        p=np.sum(y)/len(y) #Proportion of class 1\n",
        "        return 2 * p * (1 - p)\n",
        "\n",
        "    def _squared_impurity(self,y):\n",
        "        p=np.sum(y)/len(y)\n",
        "        return np.sqrt(p*(1-p))\n",
        "\n",
        "    def _most_common_label(self, y):\n",
        "        counter = Counter(y)\n",
        "        value = counter.most_common(1)[0][0]\n",
        "        return value\n",
        "\n",
        "    def predict(self, X):\n",
        "        return np.array([self._traverse_tree(x, self.root) for x in X])\n",
        "\n",
        "    def _traverse_tree(self, x, node):\n",
        "        if node.is_leaf():\n",
        "            return node.value\n",
        "\n",
        "        if x[node.feature] <= node.threshold:\n",
        "            return self._traverse_tree(x, node.left)\n",
        "        return self._traverse_tree(x, node.right)\n",
        "\n",
        "    def accuracy(self, y_test, y_pred):\n",
        "        \"\"\"\n",
        "        Compute accuracy of predictions.\n",
        "        \"\"\"\n",
        "        return np.sum(y_test == y_pred) / len(y_test)\n",
        "\n",
        "    def evaluate(self, X_test, y_test,data_type='test'):\n",
        "        \"\"\"\n",
        "        Evaluate the decision tree on the test set.\n",
        "        \"\"\"\n",
        "        predictions = self.predict(X_test)\n",
        "        acc = self.accuracy(y_test, predictions)\n",
        "        if data_type == 'train':\n",
        "            print(f\"Training Accuracy with {self.criterion}: {acc}\")\n",
        "        else:\n",
        "            print(f\"Test Accuracy with {self.criterion}: {acc}\")\n",
        "\n",
        "\n",
        "    def compute_zero_one_loss(self, X, y,data_type='training'):\n",
        "        \"\"\"\n",
        "        Computes the training error using zero-one loss.\n",
        "        \"\"\"\n",
        "        predictions = self.predict(X)\n",
        "        errors = np.sum(predictions != y)\n",
        "        total_samples = len(y)\n",
        "        error_rate = errors / total_samples\n",
        "        print(f\"The {data_type} error with {self.criterion} is {error_rate}\")\n",
        "\n",
        "\n",
        "    def to_dict(self, node=None):\n",
        "        \"\"\"Convert the tree into a dictionary format for visualization.\"\"\"\n",
        "        if node is None:\n",
        "            node = self.root\n",
        "\n",
        "        if node.is_leaf():\n",
        "            return self.class_labels[node.value]\n",
        "\n",
        "        feature_name=( self.feature_names[node.feature] if self.feature_names else f\"Feature {node.feature}\")\n",
        "\n",
        "\n",
        "        return {\n",
        "            f\"{feature_name} <= {node.threshold}\": {\n",
        "                \"Left\": self.to_dict(node.left),\n",
        "                \"Right\": self.to_dict(node.right),\n",
        "            }\n",
        "        }\n",
        "\n",
        "    def visualize(self,filename=\"tree\"):\n",
        "\n",
        "        def add_nodes_edges(node, graph, node_id=0):\n",
        "\n",
        "\n",
        "            if node.is_leaf():\n",
        "\n",
        "                label=self.class_labels.get(node.value,f\"Class {node.value}\")\n",
        "\n",
        "                graph.node(str(node_id), f\"Leaf: {label}\", shape=\"box\",style=\"filled\", color=\"lightsalmon\")\n",
        "                return node_id\n",
        "\n",
        "\n",
        "            feature_name=self.feature_names[node.feature] if self.feature_names else f\"Feature {node.feature}\"\n",
        "\n",
        "            graph.node(str(node_id), f\"{feature_name} <= {node.threshold}\",shape=\"ellipse\",style=\"filled\",color=\"powderblue\")\n",
        "\n",
        "\n",
        "            left_id = node_id + 1\n",
        "            graph.edge(str(node_id), str(left_id), label=f\"<= {node.threshold}\", color=\"lightgreen\")\n",
        "            left_id = add_nodes_edges(node.left, graph, left_id)\n",
        "\n",
        "\n",
        "            right_id = left_id + 1\n",
        "            graph.edge(str(node_id), str(right_id), label=f\"> {node.threshold}\", color=\"red\")\n",
        "            right_id = add_nodes_edges(node.right, graph, right_id)\n",
        "\n",
        "            return right_id\n",
        "\n",
        "\n",
        "        graph = Digraph()\n",
        "\n",
        "\n",
        "        add_nodes_edges(self.root, graph)\n",
        "\n",
        "        # Render and save the tree visualization\n",
        "        graph.render(filename, format=\"png\", cleanup=True)\n",
        "        print(f\"Tree visualization saved as {filename}.png\")\n",
        "\n"
      ],
      "metadata": {
        "id": "YKhM6TGOvpqy"
      },
      "execution_count": 9,
      "outputs": []
    },
    {
      "cell_type": "markdown",
      "source": [
        "# **HYPERPARAMETER TUNING**"
      ],
      "metadata": {
        "id": "hOXqkNjbqdGq"
      }
    },
    {
      "cell_type": "code",
      "source": [
        "num_cores = multiprocessing.cpu_count()\n",
        "print(f\"Number of available CPU cores: {num_cores}\")"
      ],
      "metadata": {
        "colab": {
          "base_uri": "https://localhost:8080/"
        },
        "id": "IVfaPvztrUWs",
        "outputId": "ee9bb5c5-0b83-4966-f784-13083e5c4792"
      },
      "execution_count": 14,
      "outputs": [
        {
          "output_type": "stream",
          "name": "stdout",
          "text": [
            "Number of available CPU cores: 2\n"
          ]
        }
      ]
    },
    {
      "cell_type": "code",
      "source": [
        "def save_results(results, filename=\"search_results.pkl\"):\n",
        "    \"\"\"Save results to a pickle file.\"\"\"\n",
        "    with open(filename, 'wb') as f:\n",
        "        pickle.dump(results, f)\n",
        "\n",
        "def load_results(filename=\"search_results.pkl\"):\n",
        "    \"\"\"Load previously saved results.\"\"\"\n",
        "    try:\n",
        "        with open(filename, 'rb') as f:\n",
        "            return pickle.load(f)\n",
        "    except FileNotFoundError:\n",
        "        return None\n",
        "\n",
        "\n",
        "\n",
        "def random_search_cv(X, y, model_class, param_distributions, cv, scoring, n_iter=10, n_jobs=2, random_state=None,saved_results_file=\"search_results.pkl\"):\n",
        "    \"\"\"\n",
        "    Perform random search cross-validation.\n",
        "\n",
        "    Parameters:\n",
        "    - X: Feature matrix.\n",
        "    - y: Target vector.\n",
        "    - model_class: The class of the model to be tuned.\n",
        "    - param_distributions: Dictionary of parameter distributions to sample from.\n",
        "    - cv:  ( StratifiedKFold).\n",
        "    - scoring: Dictionary of scoring metrics.\n",
        "    - n_iter: Number of random combinations to test.\n",
        "    - n_jobs: Number of parallel jobs.\n",
        "    - random_state: Seed for reproducibility.\n",
        "\n",
        "    Returns:\n",
        "    - best_params: Parameters of the best model.\n",
        "    - best_score: Best score achieved.\n",
        "    - results: Detailed results of all tested combinations.\n",
        "    \"\"\"\n",
        "    np.random.seed(random_state)\n",
        "    random.seed(random_state)\n",
        "\n",
        "    previous_results = load_results(saved_results_file)\n",
        "    best_params = previous_results['best_params'] if previous_results else None\n",
        "    best_score = previous_results['best_score'] if previous_results else -np.inf\n",
        "    results = previous_results['results'] if previous_results else []\n",
        "\n",
        "    primary_metric = 'accuracy'\n",
        "\n",
        "    param_names = list(param_distributions.keys())\n",
        "\n",
        "\n",
        "    def random_sample():\n",
        "        return {key: random.choice(values) for key, values in param_distributions.items()}\n",
        "\n",
        "    def evaluate_combination(params):\n",
        "        fold_scores = {metric: [] for metric in scoring.keys()}\n",
        "\n",
        "\n",
        "        for train_idx, val_idx in cv.split(X, y):\n",
        "            X_train, X_val = X[train_idx], X[val_idx]\n",
        "            y_train, y_val = y[train_idx], y[val_idx]\n",
        "\n",
        "\n",
        "            model = model_class(**params)\n",
        "            model.fit(X_train, y_train)\n",
        "\n",
        "\n",
        "            y_pred = model.predict(X_val)\n",
        "            for metric, func in scoring.items():\n",
        "                fold_scores[metric].append(func(y_val, y_pred))\n",
        "\n",
        "\n",
        "        mean_score = {metric: np.mean(scores) for metric, scores in fold_scores.items()}\n",
        "        return {'params': params, 'mean_score': mean_score, 'fold_scores': fold_scores}\n",
        "\n",
        "\n",
        "    random_combinations=[random_sample() for _ in range(n_iter)]\n",
        "\n",
        "    parallel_results=Parallel(n_jobs=n_jobs)(delayed(evaluate_combination)(combination) for combination in random_combinations)\n",
        "\n",
        "    for result in parallel_results:\n",
        "      results.append(result)\n",
        "\n",
        "      if result['mean_score'][primary_metric] > best_score:\n",
        "        best_score = result['mean_score'][primary_metric]\n",
        "        best_params = result['params']\n",
        "\n",
        "      save_results({'best_params': best_params, 'best_score': best_score, 'results': results},saved_results_file)\n",
        "\n",
        "    return best_params, best_score, results\n",
        "\n",
        "\n",
        "\n",
        "param_distributions = {\n",
        "    'max_depth': [5,10,20],\n",
        "    'min_impurity_decrease': np.linspace(0.0, 0.01, 3),\n",
        "    'criterion': ['gini', 'entropy','squared_impurity'],\n",
        "    'min_samples_split': list(range(2, 8))\n",
        "}\n",
        "\n",
        "scoring = {\n",
        "    'accuracy': accuracy_score,\n",
        "    'precision': precision_score,\n",
        "    'recall': recall_score,\n",
        "    'f1': f1_score\n",
        "}\n",
        "\n",
        "\n",
        "cv = StratifiedKFold(n_splits=3, shuffle=True, random_state=42)\n",
        "\n",
        "# Perform Random Search CV\n",
        "best_params, best_score, results = random_search_cv(\n",
        "    X_train.values,\n",
        "    y_train.values,\n",
        "    Decision_Tree,\n",
        "    param_distributions,\n",
        "\n",
        "    cv,\n",
        "    scoring,\n",
        "    n_iter=80,\n",
        "    n_jobs=2,\n",
        "    random_state=42,\n",
        "    saved_results_file=\"search_results.pkl\"\n",
        ")\n",
        "\n",
        "print(\"Best Parameters:\", best_params)\n",
        "print(\"Best Accuracy:\", best_score)\n"
      ],
      "metadata": {
        "id": "zYmLac4pivvp",
        "colab": {
          "base_uri": "https://localhost:8080/"
        },
        "outputId": "b9656c75-03fc-465c-e5da-5192cc64da1e"
      },
      "execution_count": 16,
      "outputs": [
        {
          "output_type": "stream",
          "name": "stdout",
          "text": [
            "Best Parameters: {'max_depth': 20, 'min_impurity_decrease': 0.01, 'criterion': 'entropy', 'min_samples_split': 3}\n",
            "Best Accuracy: 0.9934547991300423\n"
          ]
        }
      ]
    },
    {
      "cell_type": "code",
      "source": [
        "\n",
        "best_result = None\n",
        "for result in results:\n",
        "    if result['mean_score']['accuracy'] == best_score:\n",
        "        best_result = result\n",
        "        break\n",
        "\n",
        "if best_result:\n",
        "    print(\"Best Precision:\", best_result['mean_score']['precision'])\n",
        "    print(\"Best Recall:\", best_result['mean_score']['recall'])\n",
        "    print(\"Best F1 Score:\", best_result['mean_score']['f1'])"
      ],
      "metadata": {
        "colab": {
          "base_uri": "https://localhost:8080/"
        },
        "id": "egtxLn-J06k9",
        "outputId": "070fb62f-5421-441a-8f3c-b18b6d7cdbbd"
      },
      "execution_count": 17,
      "outputs": [
        {
          "output_type": "stream",
          "name": "stdout",
          "text": [
            "Best Precision: 0.994075470310264\n",
            "Best Recall: 0.9941095963025849\n",
            "Best F1 Score: 0.9940909130375141\n"
          ]
        }
      ]
    },
    {
      "cell_type": "code",
      "source": [
        "def save_best_params(best_params, filename=save_path):\n",
        "    \"\"\"Save best parameters to a pickle file.\"\"\"\n",
        "    with open(filename, 'wb') as f:\n",
        "        pickle.dump(best_params, f)"
      ],
      "metadata": {
        "id": "xFKcEL0SunRW"
      },
      "execution_count": 21,
      "outputs": []
    },
    {
      "cell_type": "code",
      "source": [
        "save_path = \"/content/drive/MyDrive/machinelearning/best_params.pkl\""
      ],
      "metadata": {
        "id": "29VhHI_2YCod"
      },
      "execution_count": 20,
      "outputs": []
    },
    {
      "cell_type": "code",
      "source": [
        "import os\n",
        "print(os.path.exists(\"/content/drive/MyDrive/machinelearning/best_params.pkl\"))\n"
      ],
      "metadata": {
        "colab": {
          "base_uri": "https://localhost:8080/"
        },
        "id": "grNkVE7vi2Jy",
        "outputId": "af19c833-7dbb-4eae-ce97-33b65f8c709f"
      },
      "execution_count": 22,
      "outputs": [
        {
          "output_type": "stream",
          "name": "stdout",
          "text": [
            "True\n"
          ]
        }
      ]
    },
    {
      "cell_type": "code",
      "source": [
        "save_best_params(best_params)"
      ],
      "metadata": {
        "id": "X1kdE3mNWUDA"
      },
      "execution_count": 23,
      "outputs": []
    },
    {
      "cell_type": "code",
      "source": [
        "print(results)"
      ],
      "metadata": {
        "colab": {
          "base_uri": "https://localhost:8080/"
        },
        "id": "TTXUuix_m0KN",
        "outputId": "12d923f9-8ce0-4836-d458-8049cc91a6a4"
      },
      "execution_count": 24,
      "outputs": [
        {
          "output_type": "stream",
          "name": "stdout",
          "text": [
            "[{'params': {'max_depth': 20, 'min_impurity_decrease': 0.0, 'criterion': 'gini', 'min_samples_split': 7}, 'mean_score': {'accuracy': 0.9929418523533998, 'precision': 0.9942876957910017, 'recall': 0.9929612094237467, 'f1': 0.993623099058157}, 'fold_scores': {'accuracy': [0.9938446386802905, 0.9919980302843777, 0.9929828880955313], 'precision': [0.9940033314825097, 0.9946452476572959, 0.9942145082331998], 'recall': [0.9948871846170946, 0.9908868637474995, 0.993109579906646], 'f1': [0.9944450616598156, 0.9927624986081728, 0.9936617369064829]}}, {'params': {'max_depth': 10, 'min_impurity_decrease': 0.0, 'criterion': 'gini', 'min_samples_split': 3}, 'mean_score': {'accuracy': 0.8693421970536338, 'precision': 0.9420200607595305, 'recall': 0.8142111187046296, 'f1': 0.8734626984498525}, 'fold_scores': {'accuracy': [0.8723378062292256, 0.8698141080881447, 0.8658746768435307], 'precision': [0.947164449037592, 0.9413877132230345, 0.9375080200179648], 'recall': [0.8149383127709237, 0.815736830406757, 0.8119582129362081], 'f1': [0.8760903333731629, 0.8740696635903543, 0.8702280983860401]}}, {'params': {'max_depth': 20, 'min_impurity_decrease': 0.0, 'criterion': 'squared_impurity', 'min_samples_split': 7}, 'mean_score': {'accuracy': 0.9883663671057491, 'precision': 0.9955746677204022, 'recall': 0.9833658382204719, 'f1': 0.9894275958601342}, 'fold_scores': {'accuracy': [0.9845500430875292, 0.9899052074356764, 0.9906438507940416], 'precision': [0.9945713639448088, 0.99740990990991, 0.9947427293064877], 'recall': [0.9774369234189174, 0.9843298510780173, 0.988330740164481], 'f1': [0.9859297045798532, 0.9908267143975836, 0.9915263686029657]}}, {'params': {'max_depth': 20, 'min_impurity_decrease': 0.0, 'criterion': 'squared_impurity', 'min_samples_split': 5}, 'mean_score': {'accuracy': 0.9884689564610776, 'precision': 0.9955744617761555, 'recall': 0.9835510810371216, 'f1': 0.98952186996115}, 'fold_scores': {'accuracy': [0.9847962575403176, 0.989597439369691, 0.9910131724732242], 'precision': [0.9945738186751074, 0.9969604863221885, 0.9951890803311703], 'recall': [0.9778815160609092, 0.98421871527006, 0.9885530117803957], 'f1': [0.9861570363728073, 0.9905486270342821, 0.9918599464763604]}}, {'params': {'max_depth': 5, 'min_impurity_decrease': 0.0, 'criterion': 'gini', 'min_samples_split': 3}, 'mean_score': {'accuracy': 0.711313554105626, 'precision': 0.7488804076987199, 'recall': 0.7787862844866361, 'f1': 0.7427508876496569}, 'fold_scores': {'accuracy': [0.7124215191431738, 0.7087898559645451, 0.7127292872091592], 'precision': [0.8795857468843251, 0.682522029258277, 0.6845334469535578], 'recall': [0.5569634322551962, 0.8866414758835297, 0.8927539453211825], 'f1': [0.682047094051994, 0.7713056508918644, 0.7748999180051126]}}, {'params': {'max_depth': 5, 'min_impurity_decrease': 0.01, 'criterion': 'squared_impurity', 'min_samples_split': 2}, 'mean_score': {'accuracy': 0.6969100086175058, 'precision': 0.8024800532389817, 'recall': 0.6005253543760675, 'f1': 0.6868978843760819}, 'fold_scores': {'accuracy': [0.6876154130247446, 0.7023882801920472, 0.7007263326357257], 'precision': [0.7998470948012233, 0.8055188610010274, 0.8020742039146947], 'recall': [0.5814160275647438, 0.6099133140697933, 0.6102467214936652], 'f1': [0.6733603655789406, 0.6942002403390045, 0.6931330472103004]}}, {'params': {'max_depth': 20, 'min_impurity_decrease': 0.0, 'criterion': 'squared_impurity', 'min_samples_split': 7}, 'mean_score': {'accuracy': 0.9882227420082893, 'precision': 0.995351032462552, 'recall': 0.9833287723635852, 'f1': 0.9892973515311089}, 'fold_scores': {'accuracy': [0.9841807214083467, 0.9899667610488736, 0.9905207435676474], 'precision': [0.9944557592215434, 0.9972982100641675, 0.994299128101945], 'recall': [0.9768811826164276, 0.984552122693932, 0.9885530117803957], 'f1': [0.9855901317633866, 0.9908841787372071, 0.991417744092733]}}, {'params': {'max_depth': 20, 'min_impurity_decrease': 0.01, 'criterion': 'entropy', 'min_samples_split': 3}, 'mean_score': {'accuracy': 0.9934547991300423, 'precision': 0.994075470310264, 'recall': 0.9941095963025849, 'f1': 0.9940909130375141}, 'fold_scores': {'accuracy': [0.9929828880955313, 0.9932291025483195, 0.994152406746276], 'precision': [0.9928975696371102, 0.9956502342181575, 0.993678607075524], 'recall': [0.9944425919751028, 0.99210935763503, 0.9957768392976217], 'f1': [0.9936694802310084, 0.9938766421732353, 0.9947266167082986]}}, {'params': {'max_depth': 10, 'min_impurity_decrease': 0.01, 'criterion': 'entropy', 'min_samples_split': 2}, 'mean_score': {'accuracy': 0.858652386228405, 'precision': 0.9403000738786553, 'recall': 0.7957617016708434, 'f1': 0.8617961483949504}, 'fold_scores': {'accuracy': [0.8608888341745661, 0.8589806721654561, 0.8560876523451927], 'precision': [0.9489537518326003, 0.953604761260652, 0.9183417085427136], 'recall': [0.7913749027453596, 0.7835074460991331, 0.8124027561680374], 'f1': [0.863030303030303, 0.8602281739979257, 0.8621299681566222]}}, {'params': {'max_depth': 5, 'min_impurity_decrease': 0.01, 'criterion': 'entropy', 'min_samples_split': 4}, 'mean_score': {'accuracy': 0.7109647502975092, 'precision': 0.7529313733628177, 'recall': 0.7768227205121819, 'f1': 0.7420957031923487}, 'fold_scores': {'accuracy': [0.7168533792933646, 0.7062046042102671, 0.7098362673888957], 'precision': [0.8964833183047791, 0.6788889829790837, 0.6834218188045899], 'recall': [0.5525175058352785, 0.8909757723938653, 0.8869748833074016], 'f1': [0.6836748727822858, 0.7706060460421973, 0.7720061907525634]}}, {'params': {'max_depth': 10, 'min_impurity_decrease': 0.0, 'criterion': 'gini', 'min_samples_split': 4}, 'mean_score': {'accuracy': 0.8692601255693709, 'precision': 0.941857310242602, 'recall': 0.8142111310571702, 'f1': 0.873393186254066}, 'fold_scores': {'accuracy': [0.8723993598424228, 0.8697525544749477, 0.8656284623907423], 'precision': [0.9469403563129357, 0.9413801949717804, 0.93725137944309], 'recall': [0.8152717572524175, 0.8156256945987997, 0.8117359413202934], 'f1': [0.8761870632503136, 0.8740026199833274, 0.869989875528557]}}, {'params': {'max_depth': 5, 'min_impurity_decrease': 0.0, 'criterion': 'entropy', 'min_samples_split': 2}, 'mean_score': {'accuracy': 0.7109647502975092, 'precision': 0.7529313733628177, 'recall': 0.7768227205121819, 'f1': 0.7420957031923487}, 'fold_scores': {'accuracy': [0.7168533792933646, 0.7062046042102671, 0.7098362673888957], 'precision': [0.8964833183047791, 0.6788889829790837, 0.6834218188045899], 'recall': [0.5525175058352785, 0.8909757723938653, 0.8869748833074016], 'f1': [0.6836748727822858, 0.7706060460421973, 0.7720061907525634]}}, {'params': {'max_depth': 10, 'min_impurity_decrease': 0.005, 'criterion': 'squared_impurity', 'min_samples_split': 4}, 'mean_score': {'accuracy': 0.7973655053551644, 'precision': 0.8511214753836378, 'recall': 0.7706058268136418, 'f1': 0.8080017673143413}, 'fold_scores': {'accuracy': [0.80105872214699, 0.7864089622060815, 0.8046288317124215], 'precision': [0.8875890816189324, 0.8293612964728313, 0.8364140480591498], 'recall': [0.7336890074469268, 0.773505223382974, 0.8046232496110247], 'f1': [0.8033345503225021, 0.8004600345025877, 0.8202107171179336]}}, {'params': {'max_depth': 5, 'min_impurity_decrease': 0.01, 'criterion': 'entropy', 'min_samples_split': 6}, 'mean_score': {'accuracy': 0.7110263039107062, 'precision': 0.7529450921399535, 'recall': 0.776859765781501, 'f1': 0.7421370709445357}, 'fold_scores': {'accuracy': [0.7167918256801674, 0.7062661578234642, 0.7100209282284871], 'precision': [0.8963216732780382, 0.6789161727349704, 0.6835974304068523], 'recall': [0.5525175058352785, 0.8910869082018227, 0.8869748833074016], 'f1': [0.6836278622017465, 0.7706651287966166, 0.772118221835244]}}, {'params': {'max_depth': 5, 'min_impurity_decrease': 0.005, 'criterion': 'gini', 'min_samples_split': 6}, 'mean_score': {'accuracy': 0.7113545898477573, 'precision': 0.7488965046333479, 'recall': 0.7788603791427878, 'f1': 0.7428005805866501}, 'fold_scores': {'accuracy': [0.7124830727563708, 0.7088514095777422, 0.7127292872091592], 'precision': [0.8796068796068796, 0.6825491873396065, 0.6845334469535578], 'recall': [0.5570745804156941, 0.886752611691487, 0.8927539453211825], 'f1': [0.6821367812181014, 0.7713650425367363, 0.7748999180051126]}}, {'params': {'max_depth': 10, 'min_impurity_decrease': 0.01, 'criterion': 'squared_impurity', 'min_samples_split': 4}, 'mean_score': {'accuracy': 0.7974270589683615, 'precision': 0.8511056325248395, 'recall': 0.7707540120084317, 'f1': 0.8080765614200226}, 'fold_scores': {'accuracy': [0.80105872214699, 0.7864089622060815, 0.8048134925520128], 'precision': [0.8874848769995968, 0.8293612964728313, 0.8364707241020903], 'recall': [0.7338001556074247, 0.773505223382974, 0.8049566570348966], 'f1': [0.8033584813823315, 0.8004600345025877, 0.8204111683751487]}}, {'params': {'max_depth': 20, 'min_impurity_decrease': 0.0, 'criterion': 'squared_impurity', 'min_samples_split': 2}, 'mean_score': {'accuracy': 0.9885920636874719, 'precision': 0.9957992802170071, 'recall': 0.9835510810371216, 'f1': 0.9896324696002307}, 'fold_scores': {'accuracy': [0.9849809183799089, 0.9897205465960852, 0.9910747260864212], 'precision': [0.9949112292208526, 0.9972969929046064, 0.9951896185255621], 'recall': [0.9778815160609092, 0.9841075794621027, 0.988664147588353], 'f1': [0.986322869955157, 0.9906583878726856, 0.9919161509728495]}}, {'params': {'max_depth': 5, 'min_impurity_decrease': 0.01, 'criterion': 'gini', 'min_samples_split': 4}, 'mean_score': {'accuracy': 0.7112930362345603, 'precision': 0.7488611473009077, 'recall': 0.7787862844866361, 'f1': 0.7427384559053459}, 'fold_scores': {'accuracy': [0.7124215191431738, 0.7090360704173335, 0.7124215191431738], 'precision': [0.8795857468843251, 0.6827243946265081, 0.6842733003918896], 'recall': [0.5569634322551962, 0.886752611691487, 0.8926428095132252], 'f1': [0.682047094051994, 0.7714769156393522, 0.7746913580246914]}}, {'params': {'max_depth': 5, 'min_impurity_decrease': 0.0, 'criterion': 'gini', 'min_samples_split': 5}, 'mean_score': {'accuracy': 0.7113956255898888, 'precision': 0.7489478628214638, 'recall': 0.7788233297559551, 'f1': 0.7428079758988195}, 'fold_scores': {'accuracy': [0.7124215191431738, 0.7090360704173335, 0.7127292872091592], 'precision': [0.8795857468843251, 0.6827243946265081, 0.6845334469535578], 'recall': [0.5569634322551962, 0.886752611691487, 0.8927539453211825], 'f1': [0.682047094051994, 0.7714769156393522, 0.7748999180051126]}}, {'params': {'max_depth': 10, 'min_impurity_decrease': 0.005, 'criterion': 'squared_impurity', 'min_samples_split': 4}, 'mean_score': {'accuracy': 0.7974065410972958, 'precision': 0.8511597375397302, 'recall': 0.7706428762004744, 'f1': 0.8080405216088531}, 'fold_scores': {'accuracy': [0.8011202757601871, 0.7864705158192786, 0.8046288317124215], 'precision': [0.8876041946759882, 0.8295386816068662, 0.8363363363363363], 'recall': [0.7338001556074247, 0.7733940875750167, 0.804734385418982], 'f1': [0.803407362336477, 0.8004831195720941, 0.8202310829179882]}}, {'params': {'max_depth': 5, 'min_impurity_decrease': 0.005, 'criterion': 'entropy', 'min_samples_split': 3}, 'mean_score': {'accuracy': 0.7109647502975092, 'precision': 0.7529324360475728, 'recall': 0.7768227205121819, 'f1': 0.7420960163221335}, 'fold_scores': {'accuracy': [0.7168533792933646, 0.7060199433706759, 0.7100209282284871], 'precision': [0.8964833183047791, 0.678716559431087, 0.6835974304068523], 'recall': [0.5525175058352785, 0.8909757723938653, 0.8869748833074016], 'f1': [0.6836748727822858, 0.7704949543488707, 0.772118221835244]}}, {'params': {'max_depth': 20, 'min_impurity_decrease': 0.005, 'criterion': 'squared_impurity', 'min_samples_split': 7}, 'mean_score': {'accuracy': 0.988304813492552, 'precision': 0.9954617388571266, 'recall': 0.9833658423379855, 'f1': 0.9893722116492678}, 'fold_scores': {'accuracy': [0.9847347039271205, 0.9894127785300997, 0.9907669580204358], 'precision': [0.9947969686687026, 0.9965121512151215, 0.9950760966875559], 'recall': [0.9775480715794154, 0.9843298510780173, 0.9882196043565237], 'f1': [0.9860970960870052, 0.9903835401990384, 0.9916359986617598]}}, {'params': {'max_depth': 20, 'min_impurity_decrease': 0.0, 'criterion': 'squared_impurity', 'min_samples_split': 7}, 'mean_score': {'accuracy': 0.9886125815585375, 'precision': 0.9953550992932957, 'recall': 0.9840326901258377, 'f1': 0.9896561306558004}, 'fold_scores': {'accuracy': [0.9851655792195002, 0.9898436538224794, 0.990828511633633], 'precision': [0.9946892655367232, 0.9970737197523917, 0.994302312590772], 'recall': [0.9784372568633989, 0.984552122693932, 0.9891086908201823], 'f1': [0.9864963299153919, 0.9907733601744674, 0.9916987018775419]}}, {'params': {'max_depth': 5, 'min_impurity_decrease': 0.01, 'criterion': 'squared_impurity', 'min_samples_split': 3}, 'mean_score': {'accuracy': 0.6969100086175058, 'precision': 0.8024800532389817, 'recall': 0.6005253543760675, 'f1': 0.6868978843760819}, 'fold_scores': {'accuracy': [0.6876154130247446, 0.7023882801920472, 0.7007263326357257], 'precision': [0.7998470948012233, 0.8055188610010274, 0.8020742039146947], 'recall': [0.5814160275647438, 0.6099133140697933, 0.6102467214936652], 'f1': [0.6733603655789406, 0.6942002403390045, 0.6931330472103004]}}, {'params': {'max_depth': 5, 'min_impurity_decrease': 0.005, 'criterion': 'entropy', 'min_samples_split': 4}, 'mean_score': {'accuracy': 0.7109852681685748, 'precision': 0.7529375950650471, 'recall': 0.7768597698990144, 'f1': 0.7421258740678495}, 'fold_scores': {'accuracy': [0.7169149329065616, 0.7062046042102671, 0.7098362673888957], 'precision': [0.8965019834114677, 0.6788889829790837, 0.6834218188045899], 'recall': [0.5526286539957763, 0.8909757723938653, 0.8869748833074016], 'f1': [0.6837653854087877, 0.7706060460421973, 0.7720061907525634]}}, {'params': {'max_depth': 20, 'min_impurity_decrease': 0.01, 'criterion': 'squared_impurity', 'min_samples_split': 3}, 'mean_score': {'accuracy': 0.9887972423981287, 'precision': 0.9958366840936675, 'recall': 0.9838845090485613, 'f1': 0.9898209547064933}, 'fold_scores': {'accuracy': [0.9851040256063031, 0.9900283146620706, 0.9912593869260126], 'precision': [0.9945768839679132, 0.9972985141828006, 0.9956346541302887], 'recall': [0.9784372568633989, 0.9846632585018893, 0.9885530117803957], 'f1': [0.9864410578216046, 0.9909406106699474, 0.9920811956279277]}}, {'params': {'max_depth': 20, 'min_impurity_decrease': 0.005, 'criterion': 'gini', 'min_samples_split': 3}, 'mean_score': {'accuracy': 0.9921211375107718, 'precision': 0.9932525232167176, 'recall': 0.9925166208992685, 'f1': 0.992884078793451}, 'fold_scores': {'accuracy': [0.9926751200295457, 0.9911978333128154, 0.9924904591899545], 'precision': [0.9931126416351922, 0.9932048568564108, 0.9934400711585502], 'recall': [0.9936645548516172, 0.9908868637474995, 0.9929984440986886], 'f1': [0.9933885215845325, 0.9920445062586927, 0.9932192085371276]}}, {'params': {'max_depth': 5, 'min_impurity_decrease': 0.005, 'criterion': 'entropy', 'min_samples_split': 4}, 'mean_score': {'accuracy': 0.711046821781772, 'precision': 0.7529989738155339, 'recall': 0.776859765781501, 'f1': 0.742152741138049}, 'fold_scores': {'accuracy': [0.7168533792933646, 0.7062661578234642, 0.7100209282284871], 'precision': [0.8964833183047791, 0.6789161727349704, 0.6835974304068523], 'recall': [0.5525175058352785, 0.8910869082018227, 0.8869748833074016], 'f1': [0.6836748727822858, 0.7706651287966166, 0.772118221835244]}}, {'params': {'max_depth': 5, 'min_impurity_decrease': 0.0, 'criterion': 'squared_impurity', 'min_samples_split': 7}, 'mean_score': {'accuracy': 0.6969305264885716, 'precision': 0.8024895670409092, 'recall': 0.6005623996453866, 'f1': 0.6869254119871718}, 'fold_scores': {'accuracy': [0.6876154130247446, 0.7024498338052444, 0.7007263326357257], 'precision': [0.7998470948012233, 0.8055474024068096, 0.8020742039146947], 'recall': [0.5814160275647438, 0.6100244498777506, 0.6102467214936652], 'f1': [0.6733603655789406, 0.6942828231722742, 0.6931330472103004]}}, {'params': {'max_depth': 10, 'min_impurity_decrease': 0.0, 'criterion': 'squared_impurity', 'min_samples_split': 5}, 'mean_score': {'accuracy': 0.7974065410972958, 'precision': 0.8511368431353526, 'recall': 0.7706799132347665, 'f1': 0.8080440285544617}, 'fold_scores': {'accuracy': [0.8009971685337929, 0.7865320694324757, 0.8046903853256187], 'precision': [0.8875739644970414, 0.8295589988081049, 0.8362775661009121], 'recall': [0.7335778592864288, 0.773505223382974, 0.8049566570348966], 'f1': [0.8032617294468448, 0.800552104899931, 0.8203182513166091]}}, {'params': {'max_depth': 10, 'min_impurity_decrease': 0.01, 'criterion': 'entropy', 'min_samples_split': 3}, 'mean_score': {'accuracy': 0.8586523862284049, 'precision': 0.9401821779579128, 'recall': 0.7958728292437737, 'f1': 0.8618132757602291}, 'fold_scores': {'accuracy': [0.8608272805613689, 0.8590422257786532, 0.8560876523451927], 'precision': [0.9490666666666666, 0.9532432432432433, 0.9182366239638282], 'recall': [0.7911526064243637, 0.7839519893309624, 0.8125138919759947], 'f1': [0.8629447778383948, 0.8603488230271984, 0.8621462264150943]}}, {'params': {'max_depth': 10, 'min_impurity_decrease': 0.0, 'criterion': 'gini', 'min_samples_split': 7}, 'mean_score': {'accuracy': 0.8693627149246995, 'precision': 0.9420601663387579, 'recall': 0.8142111187046296, 'f1': 0.8734799751641344}, 'fold_scores': {'accuracy': [0.8723378062292256, 0.8698141080881447, 0.8659362304567279], 'precision': [0.947164449037592, 0.9413877132230345, 0.9376283367556468], 'recall': [0.8149383127709237, 0.815736830406757, 0.8119582129362081], 'f1': [0.8760903333731629, 0.8740696635903543, 0.8702799285288862]}}, {'params': {'max_depth': 20, 'min_impurity_decrease': 0.01, 'criterion': 'entropy', 'min_samples_split': 7}, 'mean_score': {'accuracy': 0.9934547991300423, 'precision': 0.9941476811641748, 'recall': 0.9940354687063248, 'f1': 0.99409034104085}, 'fold_scores': {'accuracy': [0.9927366736427429, 0.9933522097747137, 0.9942755139726702], 'precision': [0.9934422585306213, 0.9954302273740526, 0.9935705575878506], 'recall': [0.9934422585306213, 0.9925539008668594, 0.9961102467214936], 'f1': [0.9934422585306213, 0.9939899833055091, 0.9948387812864199]}}, {'params': {'max_depth': 20, 'min_impurity_decrease': 0.005, 'criterion': 'squared_impurity', 'min_samples_split': 5}, 'mean_score': {'accuracy': 0.9886946530428004, 'precision': 0.9955775417571503, 'recall': 0.9839586119397401, 'f1': 0.9897297731158375}, 'fold_scores': {'accuracy': [0.9852271328326972, 0.9899052074356764, 0.990951618860027], 'precision': [0.9944664031620554, 0.99740990990991, 0.9948563121994857], 'recall': [0.9787707013448927, 0.9843298510780173, 0.9887752833963103], 'f1': [0.9865561281649115, 0.9908267143975836, 0.9918064767850175]}}, {'params': {'max_depth': 10, 'min_impurity_decrease': 0.0, 'criterion': 'gini', 'min_samples_split': 6}, 'mean_score': {'accuracy': 0.8692601255693709, 'precision': 0.9417824443180964, 'recall': 0.8142852215958084, 'f1': 0.8734033080853459}, 'fold_scores': {'accuracy': [0.8724609134556198, 0.8695678936353564, 0.8657515696171365], 'precision': [0.947062621045836, 0.9409050121779259, 0.9373796997305274], 'recall': [0.8152717572524175, 0.815736830406757, 0.8118470771282508], 'f1': [0.8762393979213953, 0.8738615393773439, 0.8701089869572985]}}, {'params': {'max_depth': 10, 'min_impurity_decrease': 0.0, 'criterion': 'gini', 'min_samples_split': 2}, 'mean_score': {'accuracy': 0.8693627149246995, 'precision': 0.9419849177709176, 'recall': 0.8142852133607813, 'f1': 0.8734902313346159}, 'fold_scores': {'accuracy': [0.8723993598424228, 0.8698141080881447, 0.8658746768435307], 'precision': [0.9471712735727202, 0.9413877132230345, 0.9373957665169981], 'recall': [0.8150494609314216, 0.815736830406757, 0.8120693487441654], 'f1': [0.8761574765517653, 0.8740696635903543, 0.8702435538617281]}}, {'params': {'max_depth': 5, 'min_impurity_decrease': 0.01, 'criterion': 'gini', 'min_samples_split': 7}, 'mean_score': {'accuracy': 0.711313554105626, 'precision': 0.7489126211859078, 'recall': 0.7787862844866361, 'f1': 0.7427539291940786}, 'fold_scores': {'accuracy': [0.7124830727563708, 0.7090360704173335, 0.7124215191431738], 'precision': [0.8797401685393258, 0.6827243946265081, 0.6842733003918896], 'recall': [0.5569634322551962, 0.886752611691487, 0.8926428095132252], 'f1': [0.6820935139181923, 0.7714769156393522, 0.7746913580246914]}}, {'params': {'max_depth': 10, 'min_impurity_decrease': 0.01, 'criterion': 'gini', 'min_samples_split': 5}, 'mean_score': {'accuracy': 0.8689728753744511, 'precision': 0.9413311441069198, 'recall': 0.8141740734353103, 'f1': 0.8731452086324003}, 'fold_scores': {'accuracy': [0.871968484550043, 0.8695678936353564, 0.8653822479379539], 'precision': [0.9464308764683104, 0.9407920030757401, 0.936770552776709], 'recall': [0.8149383127709237, 0.8158479662147143, 0.8117359413202934], 'f1': [0.8757763975155279, 0.8738765549669663, 0.8697826734147067]}}, {'params': {'max_depth': 10, 'min_impurity_decrease': 0.01, 'criterion': 'entropy', 'min_samples_split': 6}, 'mean_score': {'accuracy': 0.8586729040994706, 'precision': 0.9404168694029988, 'recall': 0.7956876111322052, 'f1': 0.8618032879769367}, 'fold_scores': {'accuracy': [0.8609503877877631, 0.8590422257786532, 0.8560260987319955], 'precision': [0.9490802452679286, 0.9537337662337663, 0.9184365967073017], 'recall': [0.7913749027453596, 0.7835074460991331, 0.8121804845521227], 'f1': [0.8630826110673374, 0.860280658938377, 0.8620465939250959]}}, {'params': {'max_depth': 10, 'min_impurity_decrease': 0.01, 'criterion': 'gini', 'min_samples_split': 7}, 'mean_score': {'accuracy': 0.8689523575033854, 'precision': 0.9412920884239301, 'recall': 0.8141740734353103, 'f1': 0.8731280779807249}, 'fold_scores': {'accuracy': [0.8720915917764372, 0.8693832327957651, 0.8653822479379539], 'precision': [0.9466752743705616, 0.9404304381245197, 0.936770552776709], 'recall': [0.8149383127709237, 0.8158479662147143, 0.8117359413202934], 'f1': [0.8758810177995461, 0.8737205427279219, 0.8697826734147067]}}, {'params': {'max_depth': 20, 'min_impurity_decrease': 0.0, 'criterion': 'squared_impurity', 'min_samples_split': 6}, 'mean_score': {'accuracy': 0.9883868849768148, 'precision': 0.995240846235648, 'recall': 0.9837363279712849, 'f1': 0.98945083035458}, 'fold_scores': {'accuracy': [0.985042471993106, 0.9896589929828881, 0.9904591899544504], 'precision': [0.9944645277903299, 0.996848975917173, 0.9944090349994409], 'recall': [0.9784372568633989, 0.9844409868859747, 0.988330740164481], 'f1': [0.9863857919211161, 0.9906061283829121, 0.9913605707597124]}}, {'params': {'max_depth': 10, 'min_impurity_decrease': 0.01, 'criterion': 'entropy', 'min_samples_split': 2}, 'mean_score': {'accuracy': 0.8585703147441421, 'precision': 0.940327188594468, 'recall': 0.7955764547366803, 'f1': 0.8616982155348932}, 'fold_scores': {'accuracy': [0.8605810661085805, 0.8589806721654561, 0.8561492059583897], 'precision': [0.9489197119231795, 0.953604761260652, 0.9184570925995728], 'recall': [0.7908191619428698, 0.7835074460991331, 0.8124027561680374], 'f1': [0.8626856623219157, 0.8602281739979257, 0.8621808102848382]}}, {'params': {'max_depth': 10, 'min_impurity_decrease': 0.005, 'criterion': 'gini', 'min_samples_split': 5}, 'mean_score': {'accuracy': 0.8691370183429767, 'precision': 0.9415789679448582, 'recall': 0.8142481722089757, 'f1': 0.8732943388437725}, 'fold_scores': {'accuracy': [0.8723378062292256, 0.8695063400221593, 0.8655669087775453], 'precision': [0.9469335054874113, 0.9407844142527557, 0.9370189840944074], 'recall': [0.8151606090919196, 0.815736830406757, 0.8118470771282508], 'f1': [0.8761199378807789, 0.8738095238095238, 0.8699535548410147]}}, {'params': {'max_depth': 5, 'min_impurity_decrease': 0.01, 'criterion': 'squared_impurity', 'min_samples_split': 4}, 'mean_score': {'accuracy': 0.6969100086175058, 'precision': 0.8024488063470906, 'recall': 0.6005623996453866, 'f1': 0.6869109665337548}, 'fold_scores': {'accuracy': [0.6875538594115475, 0.7024498338052444, 0.7007263326357257], 'precision': [0.7997248127197676, 0.8055474024068096, 0.8020742039146947], 'recall': [0.5814160275647438, 0.6100244498777506, 0.6102467214936652], 'f1': [0.6733170292186896, 0.6942828231722742, 0.6931330472103004]}}, {'params': {'max_depth': 20, 'min_impurity_decrease': 0.0, 'criterion': 'squared_impurity', 'min_samples_split': 2}, 'mean_score': {'accuracy': 0.988509992203209, 'precision': 0.9956863854414565, 'recall': 0.9835140069452076, 'f1': 0.989557406785926}, 'fold_scores': {'accuracy': [0.9843653822479379, 0.9900898682752678, 0.9910747260864212], 'precision': [0.9945695214390768, 0.9974107846448272, 0.9950788502404653], 'recall': [0.9771034789374236, 0.9846632585018893, 0.9887752833963103], 'f1': [0.9857591388203633, 0.9909960293048488, 0.9919170522325659]}}, {'params': {'max_depth': 20, 'min_impurity_decrease': 0.005, 'criterion': 'squared_impurity', 'min_samples_split': 6}, 'mean_score': {'accuracy': 0.9886536173006689, 'precision': 0.9956510443358754, 'recall': 0.9838104226274366, 'f1': 0.9896914779925187}, 'fold_scores': {'accuracy': [0.9852271328326972, 0.9900283146620706, 0.9907054044072388], 'precision': [0.9946898655519151, 0.9972985141828006, 0.9949647532729103], 'recall': [0.9785484050238968, 0.9846632585018893, 0.9882196043565237], 'f1': [0.9865531151949798, 0.9909406106699474, 0.9915807081126289]}}, {'params': {'max_depth': 20, 'min_impurity_decrease': 0.0, 'criterion': 'gini', 'min_samples_split': 4}, 'mean_score': {'accuracy': 0.9929623702244655, 'precision': 0.9942142648083506, 'recall': 0.9930723328791634, 'f1': 0.9936424018743856}, 'fold_scores': {'accuracy': [0.9937830850670935, 0.9920595838975748, 0.9930444417087283], 'precision': [0.9942222222222222, 0.9944252425019512, 0.9939953297008784], 'recall': [0.9945537401356007, 0.9912202711713715, 0.993442987330518], 'f1': [0.9943879535478135, 0.9928201703122391, 0.9937190817631038]}}, {'params': {'max_depth': 5, 'min_impurity_decrease': 0.01, 'criterion': 'squared_impurity', 'min_samples_split': 2}, 'mean_score': {'accuracy': 0.6969305264885716, 'precision': 0.8024895670409092, 'recall': 0.6005623996453866, 'f1': 0.6869254119871718}, 'fold_scores': {'accuracy': [0.6876154130247446, 0.7024498338052444, 0.7007263326357257], 'precision': [0.7998470948012233, 0.8055474024068096, 0.8020742039146947], 'recall': [0.5814160275647438, 0.6100244498777506, 0.6102467214936652], 'f1': [0.6733603655789406, 0.6942828231722742, 0.6931330472103004]}}, {'params': {'max_depth': 20, 'min_impurity_decrease': 0.005, 'criterion': 'entropy', 'min_samples_split': 2}, 'mean_score': {'accuracy': 0.9931675489351225, 'precision': 0.9941065966224487, 'recall': 0.9935538760876629, 'f1': 0.9938294200568274}, 'fold_scores': {'accuracy': [0.9929213344823341, 0.9923673519635603, 0.9942139603594731], 'precision': [0.9938834519572953, 0.9944283485625139, 0.9940079893475366], 'recall': [0.9933311103701233, 0.991775950211158, 0.995554567681707], 'f1': [0.9936072044026906, 0.9931003783663477, 0.9947806774014436]}}, {'params': {'max_depth': 5, 'min_impurity_decrease': 0.005, 'criterion': 'entropy', 'min_samples_split': 3}, 'mean_score': {'accuracy': 0.7109442324264434, 'precision': 0.7529118676454672, 'recall': 0.7768227205121819, 'f1': 0.7420832577023396}, 'fold_scores': {'accuracy': [0.7168533792933646, 0.7062046042102671, 0.7097747137756987], 'precision': [0.8964833183047791, 0.6788889829790837, 0.6833633016525388], 'recall': [0.5525175058352785, 0.8909757723938653, 0.8869748833074016], 'f1': [0.6836748727822858, 0.7706060460421973, 0.7719688542825361]}}, {'params': {'max_depth': 5, 'min_impurity_decrease': 0.0, 'criterion': 'squared_impurity', 'min_samples_split': 2}, 'mean_score': {'accuracy': 0.6969305264885716, 'precision': 0.8024895670409092, 'recall': 0.6005623996453866, 'f1': 0.6869254119871718}, 'fold_scores': {'accuracy': [0.6876154130247446, 0.7024498338052444, 0.7007263326357257], 'precision': [0.7998470948012233, 0.8055474024068096, 0.8020742039146947], 'recall': [0.5814160275647438, 0.6100244498777506, 0.6102467214936652], 'f1': [0.6733603655789406, 0.6942828231722742, 0.6931330472103004]}}, {'params': {'max_depth': 5, 'min_impurity_decrease': 0.01, 'criterion': 'entropy', 'min_samples_split': 2}, 'mean_score': {'accuracy': 0.7109442324264434, 'precision': 0.7529118676454672, 'recall': 0.7768227205121819, 'f1': 0.7420832577023396}, 'fold_scores': {'accuracy': [0.7168533792933646, 0.7062046042102671, 0.7097747137756987], 'precision': [0.8964833183047791, 0.6788889829790837, 0.6833633016525388], 'recall': [0.5525175058352785, 0.8909757723938653, 0.8869748833074016], 'f1': [0.6836748727822858, 0.7706060460421973, 0.7719688542825361]}}, {'params': {'max_depth': 20, 'min_impurity_decrease': 0.0, 'criterion': 'gini', 'min_samples_split': 7}, 'mean_score': {'accuracy': 0.9926751200295457, 'precision': 0.9939913196067544, 'recall': 0.9927759666070969, 'f1': 0.9933824939538942}, 'fold_scores': {'accuracy': [0.9935984242275021, 0.991567154991998, 0.9928597808691371], 'precision': [0.9940006665926008, 0.9941996653653096, 0.9937736268623527], 'recall': [0.9944425919751028, 0.9905534563236275, 0.9933318515225605], 'f1': [0.994221580175575, 0.9923732116016256, 0.993552690084482]}}, {'params': {'max_depth': 10, 'min_impurity_decrease': 0.01, 'criterion': 'gini', 'min_samples_split': 4}, 'mean_score': {'accuracy': 0.8689523575033854, 'precision': 0.9412149905245308, 'recall': 0.8142481763264894, 'f1': 0.8731379915781513}, 'fold_scores': {'accuracy': [0.8721531453896344, 0.869321679182568, 0.8653822479379539], 'precision': [0.9464516129032258, 0.9404228058936579, 0.936770552776709], 'recall': [0.8152717572524175, 0.815736830406757, 0.8117359413202934], 'f1': [0.8759777870663402, 0.8736535142534071, 0.8697826734147067]}}, {'params': {'max_depth': 20, 'min_impurity_decrease': 0.01, 'criterion': 'entropy', 'min_samples_split': 3}, 'mean_score': {'accuracy': 0.9933316919036481, 'precision': 0.9939631725877028, 'recall': 0.9939984316720327, 'f1': 0.9939794160787719}, 'fold_scores': {'accuracy': [0.9930444417087283, 0.9927982272559399, 0.994152406746276], 'precision': [0.9937750111160516, 0.9948735094171403, 0.9932409972299169], 'recall': [0.9936645548516172, 0.99210935763503, 0.996221382529451], 'f1': [0.9937197799144112, 0.9934895108786378, 0.994728957443267]}}, {'params': {'max_depth': 20, 'min_impurity_decrease': 0.01, 'criterion': 'squared_impurity', 'min_samples_split': 3}, 'mean_score': {'accuracy': 0.9886125815585375, 'precision': 0.9957615534090932, 'recall': 0.9836251592232191, 'f1': 0.9896510067132468}, 'fold_scores': {'accuracy': [0.9846115967007263, 0.9898436538224794, 0.9913824941524068], 'precision': [0.9945719778355762, 0.9974096182002478, 0.9953030641914561], 'recall': [0.9775480715794154, 0.98421871527006, 0.9891086908201823], 'f1': [0.9859865470852018, 0.9907702634670247, 0.992196209587514]}}, {'params': {'max_depth': 20, 'min_impurity_decrease': 0.005, 'criterion': 'entropy', 'min_samples_split': 7}, 'mean_score': {'accuracy': 0.9933316919036481, 'precision': 0.9941829535050656, 'recall': 0.9937761518210911, 'f1': 0.9939782969191513}, 'fold_scores': {'accuracy': [0.9926751200295457, 0.9931059953219254, 0.9942139603594731], 'precision': [0.9933318515225605, 0.9954281891168599, 0.9937888198757764], 'recall': [0.9934422585306213, 0.99210935763503, 0.9957768392976217], 'f1': [0.9933870519588774, 0.9937660024490704, 0.9947818363495059]}}, {'params': {'max_depth': 20, 'min_impurity_decrease': 0.005, 'criterion': 'entropy', 'min_samples_split': 6}, 'mean_score': {'accuracy': 0.9933111740325824, 'precision': 0.9939626749854402, 'recall': 0.9939613658151459, 'f1': 0.9939607410348019}, 'fold_scores': {'accuracy': [0.9923673519635603, 0.9930444417087283, 0.9945217284254586], 'precision': [0.9931088140491275, 0.9950964003120473, 0.9936828105951457], 'recall': [0.9931088140491275, 0.9923316292509446, 0.9964436541453656], 'f1': [0.9931088140491275, 0.9937120917032998, 0.9950613173519782]}}, {'params': {'max_depth': 10, 'min_impurity_decrease': 0.0, 'criterion': 'gini', 'min_samples_split': 3}, 'mean_score': {'accuracy': 0.8691780540851082, 'precision': 0.9418484025614114, 'recall': 0.8140629458623803, 'f1': 0.873303893697596}, 'fold_scores': {'accuracy': [0.8724609134556198, 0.8692601255693709, 0.8658131232303337], 'precision': [0.9471780963450859, 0.9408671113391482, 0.9375], 'recall': [0.8151606090919196, 0.8151811513669704, 0.8118470771282508], 'f1': [0.8762246117084826, 0.8735262593783494, 0.8701608100059559]}}, {'params': {'max_depth': 5, 'min_impurity_decrease': 0.005, 'criterion': 'gini', 'min_samples_split': 6}, 'mean_score': {'accuracy': 0.7112930362345603, 'precision': 0.7489035711657878, 'recall': 0.778749239217317, 'f1': 0.7427341309106331}, 'fold_scores': {'accuracy': [0.7124830727563708, 0.7089745168041364, 0.7124215191431738], 'precision': [0.8797401685393258, 0.6826972445661476, 0.6842733003918896], 'recall': [0.5569634322551962, 0.8866414758835297, 0.8926428095132252], 'f1': [0.6820935139181923, 0.7714175207890157, 0.7746913580246914]}}, {'params': {'max_depth': 20, 'min_impurity_decrease': 0.0, 'criterion': 'squared_impurity', 'min_samples_split': 3}, 'mean_score': {'accuracy': 0.9886536173006689, 'precision': 0.995798873805447, 'recall': 0.9836622127275655, 'f1': 0.9896886447321501}, 'fold_scores': {'accuracy': [0.9847962575403176, 0.9898436538224794, 0.9913209405392096], 'precision': [0.9946856625961104, 0.997297601621439, 0.9954133571987918], 'recall': [0.9777703679004113, 0.9843298510780173, 0.9888864192042676], 'f1': [0.9861554845580405, 0.9907712959337771, 0.9921391537046329]}}, {'params': {'max_depth': 5, 'min_impurity_decrease': 0.0, 'criterion': 'squared_impurity', 'min_samples_split': 7}, 'mean_score': {'accuracy': 0.6969100086175058, 'precision': 0.8024488063470906, 'recall': 0.6005623996453866, 'f1': 0.6869109665337548}, 'fold_scores': {'accuracy': [0.6875538594115475, 0.7024498338052444, 0.7007263326357257], 'precision': [0.7997248127197676, 0.8055474024068096, 0.8020742039146947], 'recall': [0.5814160275647438, 0.6100244498777506, 0.6102467214936652], 'f1': [0.6733170292186896, 0.6942828231722742, 0.6931330472103004]}}, {'params': {'max_depth': 5, 'min_impurity_decrease': 0.0, 'criterion': 'gini', 'min_samples_split': 2}, 'mean_score': {'accuracy': 0.7113545898477575, 'precision': 0.7489410189822389, 'recall': 0.7788233297559551, 'f1': 0.7427860793998399}, 'fold_scores': {'accuracy': [0.7124830727563708, 0.7090360704173335, 0.712544626369568], 'precision': [0.8797401685393258, 0.6827243946265081, 0.6843584937808826], 'recall': [0.5569634322551962, 0.886752611691487, 0.8927539453211825], 'f1': [0.6820935139181923, 0.7714769156393522, 0.7747878086419753]}}, {'params': {'max_depth': 10, 'min_impurity_decrease': 0.0, 'criterion': 'squared_impurity', 'min_samples_split': 3}, 'mean_score': {'accuracy': 0.7973860232262301, 'precision': 0.8511204355961369, 'recall': 0.7706428762004744, 'f1': 0.8080249485662861}, 'fold_scores': {'accuracy': [0.80105872214699, 0.7865320694324757, 0.8045672780992245], 'precision': [0.8874848769995968, 0.8295589988081049, 0.8363174309807092], 'recall': [0.7338001556074247, 0.773505223382974, 0.8046232496110247], 'f1': [0.8033584813823315, 0.800552104899931, 0.8201642594165959]}}, {'params': {'max_depth': 10, 'min_impurity_decrease': 0.01, 'criterion': 'entropy', 'min_samples_split': 3}, 'mean_score': {'accuracy': 0.8585292790020107, 'precision': 0.9401246401891769, 'recall': 0.795687594662151, 'f1': 0.861679832327566}, 'fold_scores': {'accuracy': [0.8606426197217777, 0.8587960113258648, 0.8561492059583897], 'precision': [0.9489265235364716, 0.953095431197621, 0.918351965833438], 'recall': [0.7909303101033678, 0.7836185819070904, 0.8125138919759947], 'f1': [0.8627546071774975, 0.8600878262990973, 0.8621970635061029]}}, {'params': {'max_depth': 20, 'min_impurity_decrease': 0.0, 'criterion': 'squared_impurity', 'min_samples_split': 6}, 'mean_score': {'accuracy': 0.9883458492346834, 'precision': 0.9954630101983425, 'recall': 0.9834399164065695, 'f1': 0.989409130992593}, 'fold_scores': {'accuracy': [0.9843653822479379, 0.9898436538224794, 0.990828511633633], 'precision': [0.9945695214390768, 0.9971856354835078, 0.9946338736724427], 'recall': [0.9771034789374236, 0.9844409868859747, 0.9887752833963103], 'f1': [0.9857591388203633, 0.9907723281695655, 0.9916959259878504]}}, {'params': {'max_depth': 20, 'min_impurity_decrease': 0.005, 'criterion': 'gini', 'min_samples_split': 5}, 'mean_score': {'accuracy': 0.9923263162214289, 'precision': 0.9936207331973735, 'recall': 0.9925166620744038, 'f1': 0.9930677268190014}, 'fold_scores': {'accuracy': [0.9937215314538963, 0.9912593869260126, 0.9919980302843777], 'precision': [0.9938922820655192, 0.9936454849498327, 0.9933244325767691], 'recall': [0.9947760364565966, 0.9905534563236275, 0.9922204934429874], 'f1': [0.9943339628930119, 0.9920970614425646, 0.9927721561214278]}}, {'params': {'max_depth': 10, 'min_impurity_decrease': 0.0, 'criterion': 'gini', 'min_samples_split': 2}, 'mean_score': {'accuracy': 0.8693421970536338, 'precision': 0.9419807707307051, 'recall': 0.8142481763264894, 'f1': 0.8734675250406171}, 'fold_scores': {'accuracy': [0.8724609134556198, 0.8698141080881447, 0.8657515696171365], 'precision': [0.947062621045836, 0.9413877132230345, 0.9374919779232448], 'recall': [0.8152717572524175, 0.815736830406757, 0.8117359413202934], 'f1': [0.8762393979213953, 0.8740696635903543, 0.8700935136101019]}}, {'params': {'max_depth': 20, 'min_impurity_decrease': 0.005, 'criterion': 'entropy', 'min_samples_split': 5}, 'mean_score': {'accuracy': 0.9931470310640568, 'precision': 0.994108323343999, 'recall': 0.9935168184658031, 'f1': 0.9938106698084354}, 'fold_scores': {'accuracy': [0.9923057983503631, 0.9927982272559399, 0.9943370675858673], 'precision': [0.9931080480213428, 0.9955362124762861, 0.993680709534368], 'recall': [0.9929976658886296, 0.991442542787286, 0.9961102467214936], 'f1': [0.993052853887623, 0.9934851606436884, 0.9948939948939949]}}, {'params': {'max_depth': 10, 'min_impurity_decrease': 0.005, 'criterion': 'squared_impurity', 'min_samples_split': 2}, 'mean_score': {'accuracy': 0.7973039517419672, 'precision': 0.8509977349248952, 'recall': 0.7706428762004744, 'f1': 0.80796410490777}, 'fold_scores': {'accuracy': [0.8011202757601871, 0.7864089622060815, 0.8043826172596331], 'precision': [0.8876041946759882, 0.8293612964728313, 0.836027713625866], 'recall': [0.7338001556074247, 0.773505223382974, 0.8046232496110247], 'f1': [0.803407362336477, 0.8004600345025877, 0.8200249178842451]}}, {'params': {'max_depth': 20, 'min_impurity_decrease': 0.01, 'criterion': 'squared_impurity', 'min_samples_split': 2}, 'mean_score': {'accuracy': 0.988304813492552, 'precision': 0.9954994671414807, 'recall': 0.9833287682460715, 'f1': 0.9893706456985815}, 'fold_scores': {'accuracy': [0.9841191677951496, 0.9898436538224794, 0.990951618860027], 'precision': [0.9944551318320697, 0.997297601621439, 0.9947456679709334], 'recall': [0.9767700344559298, 0.9843298510780173, 0.9888864192042676], 'f1': [0.985533251093417, 0.9907712959337771, 0.9918073900685505]}}, {'params': {'max_depth': 5, 'min_impurity_decrease': 0.005, 'criterion': 'squared_impurity', 'min_samples_split': 4}, 'mean_score': {'accuracy': 0.6968894907464401, 'precision': 0.8024392925451632, 'recall': 0.6005253543760675, 'f1': 0.6868834389226649}, 'fold_scores': {'accuracy': [0.6875538594115475, 0.7023882801920472, 0.7007263326357257], 'precision': [0.7997248127197676, 0.8055188610010274, 0.8020742039146947], 'recall': [0.5814160275647438, 0.6099133140697933, 0.6102467214936652], 'f1': [0.6733170292186896, 0.6942002403390045, 0.6931330472103004]}}, {'params': {'max_depth': 5, 'min_impurity_decrease': 0.0, 'criterion': 'gini', 'min_samples_split': 3}, 'mean_score': {'accuracy': 0.7113751077188232, 'precision': 0.7489813250775418, 'recall': 0.778749239217317, 'f1': 0.7427839534945951}, 'fold_scores': {'accuracy': [0.7124830727563708, 0.7089745168041364, 0.7126677335959621], 'precision': [0.8797401685393258, 0.6826972445661476, 0.6845065621271519], 'recall': [0.5569634322551962, 0.8866414758835297, 0.8926428095132252], 'f1': [0.6820935139181923, 0.7714175207890157, 0.7748408257765773]}}, {'params': {'max_depth': 20, 'min_impurity_decrease': 0.005, 'criterion': 'gini', 'min_samples_split': 5}, 'mean_score': {'accuracy': 0.9922237268661004, 'precision': 0.9935832783914235, 'recall': 0.992368439821992, 'f1': 0.9929748047442137}, 'fold_scores': {'accuracy': [0.9929213344823341, 0.9911362796996184, 0.9926135664163487], 'precision': [0.9935541231384752, 0.9937541824670979, 0.9934415295686972], 'recall': [0.9936645548516172, 0.9902200488997555, 0.9932207157146032], 'f1': [0.9936093359266462, 0.9919839679358717, 0.9933311103701233]}}, {'params': {'max_depth': 5, 'min_impurity_decrease': 0.005, 'criterion': 'entropy', 'min_samples_split': 3}, 'mean_score': {'accuracy': 0.7109852681685749, 'precision': 0.7529404366147797, 'recall': 0.776859765781501, 'f1': 0.7421153974438219}, 'fold_scores': {'accuracy': [0.7168533792933646, 0.7062661578234642, 0.7098362673888957], 'precision': [0.8964833183047791, 0.6789161727349704, 0.6834218188045899], 'recall': [0.5525175058352785, 0.8910869082018227, 0.8869748833074016], 'f1': [0.6836748727822858, 0.7706651287966166, 0.7720061907525634]}}, {'params': {'max_depth': 5, 'min_impurity_decrease': 0.005, 'criterion': 'squared_impurity', 'min_samples_split': 2}, 'mean_score': {'accuracy': 0.6968894907464401, 'precision': 0.8024392925451632, 'recall': 0.6005253543760675, 'f1': 0.6868834389226649}, 'fold_scores': {'accuracy': [0.6875538594115475, 0.7023882801920472, 0.7007263326357257], 'precision': [0.7997248127197676, 0.8055188610010274, 0.8020742039146947], 'recall': [0.5814160275647438, 0.6099133140697933, 0.6102467214936652], 'f1': [0.6733170292186896, 0.6942002403390045, 0.6931330472103004]}}, {'params': {'max_depth': 5, 'min_impurity_decrease': 0.01, 'criterion': 'squared_impurity', 'min_samples_split': 2}, 'mean_score': {'accuracy': 0.6969100086175058, 'precision': 0.8024488063470906, 'recall': 0.6005623996453866, 'f1': 0.6869109665337548}, 'fold_scores': {'accuracy': [0.6875538594115475, 0.7024498338052444, 0.7007263326357257], 'precision': [0.7997248127197676, 0.8055474024068096, 0.8020742039146947], 'recall': [0.5814160275647438, 0.6100244498777506, 0.6102467214936652], 'f1': [0.6733170292186896, 0.6942828231722742, 0.6931330472103004]}}, {'params': {'max_depth': 5, 'min_impurity_decrease': 0.0, 'criterion': 'gini', 'min_samples_split': 5}, 'mean_score': {'accuracy': 0.711313554105626, 'precision': 0.7488805808103335, 'recall': 0.7787862844866361, 'f1': 0.7427509097492173}, 'fold_scores': {'accuracy': [0.7124215191431738, 0.7090360704173335, 0.7124830727563708], 'precision': [0.8795857468843251, 0.6827243946265081, 0.684331600920167], 'recall': [0.5569634322551962, 0.886752611691487, 0.8926428095132252], 'f1': [0.682047094051994, 0.7714769156393522, 0.7747287195563057]}}, {'params': {'max_depth': 10, 'min_impurity_decrease': 0.005, 'criterion': 'gini', 'min_samples_split': 5}, 'mean_score': {'accuracy': 0.8690344289876482, 'precision': 0.9416787857709573, 'recall': 0.813951810054423, 'f1': 0.873167230086957}, 'fold_scores': {'accuracy': [0.8723378062292256, 0.8691985719561738, 0.8655669087775453], 'precision': [0.9469335054874113, 0.9408595253367543, 0.9372433264887063], 'recall': [0.8151606090919196, 0.8150700155590132, 0.8116248055123361], 'f1': [0.8761199378807789, 0.8734591794199964, 0.8699225729600953]}}, {'params': {'max_depth': 5, 'min_impurity_decrease': 0.0, 'criterion': 'entropy', 'min_samples_split': 2}, 'mean_score': {'accuracy': 0.7109852681685749, 'precision': 0.7529404366147797, 'recall': 0.776859765781501, 'f1': 0.7421153974438219}, 'fold_scores': {'accuracy': [0.7168533792933646, 0.7062661578234642, 0.7098362673888957], 'precision': [0.8964833183047791, 0.6789161727349704, 0.6834218188045899], 'recall': [0.5525175058352785, 0.8910869082018227, 0.8869748833074016], 'f1': [0.6836748727822858, 0.7706651287966166, 0.7720061907525634]}}]\n"
          ]
        }
      ]
    }
  ]
}